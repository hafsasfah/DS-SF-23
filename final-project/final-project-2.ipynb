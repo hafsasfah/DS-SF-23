{
 "cells": [
  {
   "cell_type": "markdown",
   "metadata": {},
   "source": [
    "# Hafsa Vahidy DS-SF-23"
   ]
  },
  {
   "cell_type": "markdown",
   "metadata": {},
   "source": [
    "# Final Project 2: Problem, Dataset, Domain Knowledge, Concerns, & Outcomes"
   ]
  },
  {
   "cell_type": "markdown",
   "metadata": {},
   "source": [
    "## Project Problem and Hypothesis"
   ]
  },
  {
   "cell_type": "markdown",
   "metadata": {},
   "source": [
    "#### What's the project about? What problem are you solving? Where does this seem to reside as a machine learning problem? Are you predicting some continuous number, or predicting a binary value? What kind of impact do you think it could have? What do you think will have the most impact in predicting the value you are interested in solving for?"
   ]
  },
  {
   "cell_type": "markdown",
   "metadata": {},
   "source": [
    "Model/Problem: Predict the most consistent weather station given recent data.\n",
    "\n",
    "Predict: I will be predicting a binary value of whether or not the weather station type is reliable.\n",
    "\n",
    "Impact of model: Influence purchase behavior of customers.\n",
    "\n",
    "What will impact prediction: QC results, station type, and country/region. All three are categorical values."
   ]
  },
  {
   "cell_type": "markdown",
   "metadata": {},
   "source": [
    "## Datasets"
   ]
  },
  {
   "cell_type": "markdown",
   "metadata": {},
   "source": [
    "#### Description of data set available, at the field level. (see table) If from an API, include a sample return. (this is usually included in API documentation!) (if doing this in markdown, use the JavaScript code tag)"
   ]
  },
  {
   "cell_type": "markdown",
   "metadata": {},
   "source": [
    "I will need to construct my own dataframe of the following values:\n",
    "\n",
    "Station ID (index) | Station Type (categorical) | QC Result (categorical) | Country (categorical)"
   ]
  },
  {
   "cell_type": "markdown",
   "metadata": {},
   "source": [
    "## Domain Knowledge"
   ]
  },
  {
   "cell_type": "markdown",
   "metadata": {},
   "source": [
    "#### What experience do you already have around this area? Does it relate or help inform the project in any way? What other research efforts exist? Use a quick Google search to see what approaches others have made, or talk with your colleagues if it is work related about previous attempts at similar problems. This could even just be something like \"the marketing team put together a forecast in excel that doesn't do well.\" Include a benchmark, how other models have performed, even if you are unsure what the metric means. "
   ]
  },
  {
   "cell_type": "markdown",
   "metadata": {},
   "source": [
    "I work for a company which collects and uses information from personal weather stations. This project can provide a business benefit to my company. No one has attempted to answer this question before."
   ]
  },
  {
   "cell_type": "markdown",
   "metadata": {},
   "source": [
    "## Project Concerns"
   ]
  },
  {
   "cell_type": "markdown",
   "metadata": {},
   "source": [
    "#### What questions do you have about your project? What are you not sure you quite yet understand? (The more honest you are about this, the easier your instructors can help) What are the assumptions and caveats to the problem? What data do you not have access to but wish you had? What is already implied about the observations in your data set? For example, if your primary data set is twitter data, it may not be representative of the whole sample. (say, predicting who would win an election) What are the risks to the project? What's the cost of your model being wrong? (What's the benefit of your model being right?) Is any of the data incorrect? Could it be incorrect?"
   ]
  },
  {
   "cell_type": "markdown",
   "metadata": {},
   "source": [
    "1. How will I use machine learning? I assume this project will only have one answer.\n",
    "2. The station type data may not be fully trustworthy because one of the station types is defaulted when the station type information is not available.\n",
    "3. The data will be moore reliable in the future due to current changes. This model will be more effective then.\n",
    "4. Risk: Station type reliability. The QC algorithm changes when a better one is formulated.\n",
    "5. How will I incorporate the country/region data into my model?"
   ]
  },
  {
   "cell_type": "markdown",
   "metadata": {},
   "source": [
    "## Outcomes"
   ]
  },
  {
   "cell_type": "markdown",
   "metadata": {},
   "source": [
    "#### What do you expect the output to look like? What does your target audience expect the output to look like? What gain do you expect from your most important feature on its own? How complicated does your model have to be? How successful does your project have to be in order to be considered a \"success\"? What will you do if the project is a bust (this happens! but it shouldn't here)?"
   ]
  },
  {
   "cell_type": "markdown",
   "metadata": {},
   "source": [
    "Output: Percent accuracy of the data received from station types.\n",
    "\n",
    "Audience: Consumers will want one answer: the best station type. \n",
    "\n",
    "How do I know if my model is a success? What percentage accuracy should I shoot for?\n",
    "\n",
    "The gain from my most important feature on its own will be an idea of which hardware produces the most close to constant results.\n",
    "\n",
    "If the project is a bust, it is not a failure because science provides learning even in failure."
   ]
  }
 ],
 "metadata": {
  "kernelspec": {
   "display_name": "Python 2",
   "language": "python",
   "name": "python2"
  },
  "language_info": {
   "codemirror_mode": {
    "name": "ipython",
    "version": 2
   },
   "file_extension": ".py",
   "mimetype": "text/x-python",
   "name": "python",
   "nbconvert_exporter": "python",
   "pygments_lexer": "ipython2",
   "version": "2.7.11"
  }
 },
 "nbformat": 4,
 "nbformat_minor": 0
}
